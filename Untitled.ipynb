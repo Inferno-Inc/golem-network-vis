{
 "cells": [
  {
   "cell_type": "code",
   "execution_count": 1,
   "metadata": {},
   "outputs": [],
   "source": [
    "import json"
   ]
  },
  {
   "cell_type": "code",
   "execution_count": 2,
   "metadata": {},
   "outputs": [],
   "source": [
    "with open(\"./graph.json\", \"r\") as f:\n",
    "    data = json.load(f)"
   ]
  },
  {
   "cell_type": "code",
   "execution_count": 3,
   "metadata": {},
   "outputs": [
    {
     "data": {
      "text/plain": [
       "{'nodes': [{'name': 'Peter', 'label': 'Person', 'id': 1},\n",
       "  {'name': 'Michael', 'label': 'Person', 'id': 2},\n",
       "  {'name': 'Neo4j', 'label': 'Database', 'id': 3},\n",
       "  {'name': 'Graph Database', 'label': 'Database', 'id': 4}],\n",
       " 'links': [{'source': 1, 'target': 2, 'type': 'KNOWS', 'since': 2010},\n",
       "  {'source': 1, 'target': 3, 'type': 'FOUNDED'},\n",
       "  {'source': 2, 'target': 3, 'type': 'WORKS_ON'},\n",
       "  {'source': 3, 'target': 4, 'type': 'IS_A'}]}"
      ]
     },
     "execution_count": 3,
     "metadata": {},
     "output_type": "execute_result"
    }
   ],
   "source": [
    "data"
   ]
  },
  {
   "cell_type": "code",
   "execution_count": null,
   "metadata": {},
   "outputs": [],
   "source": []
  }
 ],
 "metadata": {
  "kernelspec": {
   "display_name": "Python 3",
   "language": "python",
   "name": "python3"
  },
  "language_info": {
   "codemirror_mode": {
    "name": "ipython",
    "version": 3
   },
   "file_extension": ".py",
   "mimetype": "text/x-python",
   "name": "python",
   "nbconvert_exporter": "python",
   "pygments_lexer": "ipython3",
   "version": "3.6.5"
  }
 },
 "nbformat": 4,
 "nbformat_minor": 2
}
