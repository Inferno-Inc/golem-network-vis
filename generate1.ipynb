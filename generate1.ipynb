{
 "cells": [
  {
   "cell_type": "code",
   "execution_count": 73,
   "metadata": {},
   "outputs": [],
   "source": [
    "import pandas as pd\n",
    "import json"
   ]
  },
  {
   "cell_type": "code",
   "execution_count": 74,
   "metadata": {},
   "outputs": [],
   "source": [
    "DATA = \"data.txt\""
   ]
  },
  {
   "cell_type": "code",
   "execution_count": 75,
   "metadata": {},
   "outputs": [],
   "source": [
    "with open(DATA, \"r\") as f:\n",
    "    d = f.readlines()"
   ]
  },
  {
   "cell_type": "code",
   "execution_count": 76,
   "metadata": {},
   "outputs": [
    {
     "data": {
      "text/plain": [
       "'\\n'"
      ]
     },
     "execution_count": 76,
     "metadata": {},
     "output_type": "execute_result"
    }
   ],
   "source": [
    "d.pop(0)\n",
    "d.pop(0)"
   ]
  },
  {
   "cell_type": "code",
   "execution_count": 77,
   "metadata": {},
   "outputs": [],
   "source": [
    "for e, x in enumerate(d[1::2]):\n",
    "    json.loads(json.loads(x.replace(\"\\\\x\", \"_UNICX_\")))"
   ]
  },
  {
   "cell_type": "code",
   "execution_count": 78,
   "metadata": {},
   "outputs": [
    {
     "data": {
      "text/plain": [
       "(1366,\n",
       " '\"{\\\\\"p2p_snapshot\\\\\":[{\\\\\"address\\\\\":\\\\\"185.15.75.179\\\\\",\\\\\"client_ver\\\\\":\\\\\"0.16.2\\\\\",\\\\\"conn_id\\\\\":null,\\\\\"degree\\\\\":10,\\\\\"key_id\\\\\":\\\\\"90b9231bf32560929fad338c88d0f91497e8db85490737eef3d0ddd38f1b66af70438e04fe58d74ded21a663721ca02755ebbc297317c31c16038882f9a0f5be\\\\\",\\\\\"listen_port\\\\\":40102,\\\\\"node_name\\\\\":\\\\\"DK15\\\\\",\\\\\"port\\\\\":50888,\\\\\"verified\\\\\":true},{\\\\\"address\\\\\":\\\\\"84.10.50.51\\\\\",\\\\\"client_ver\\\\\":\\\\\"0.16.2\\\\\",\\\\\"conn_id\\\\\":null,\\\\\"degree\\\\\":10,\\\\\"key_id\\\\\":\\\\\"258ab76a7ca7e49fb1ea6febba4c389b13d76cb0c8ef4a889a462ed857ac9ba972047f645680b725decd8266b39687ba2380702ea0eb175bde44f18b65073c78\\\\\",\\\\\"listen_port\\\\\":40102,\\\\\"node_name\\\\\":\\\\\"tiger-zoo\\\\\",\\\\\"port\\\\\":59838,\\\\\"verified\\\\\":true},{\\\\\"address\\\\\":\\\\\"46.139.47.15\\\\\",\\\\\"client_ver\\\\\":\\\\\"0.16.2\\\\\",\\\\\"conn_id\\\\\":\\\\\"dc8cbc65-b067-4c8c-b32d-81adaba6e816\\\\\",\\\\\"degree\\\\\":10,\\\\\"key_id\\\\\":\\\\\"7c4e8a897ad6ce1e19bfca4f2a553ddccbdb802a95269d8bcf06338ba5c3be1a89274a6c5d725903696858d7732c47c92a7e252634d665c6b4522072e53e38b2\\\\\",\\\\\"listen_port\\\\\":40102,\\\\\"node_name\\\\\":\\\\\"DormSuGla\\\\\",\\\\\"port\\\\\":40102,\\\\\"verified\\\\\":true},{\\\\\"address\\\\\":\\\\\"159.118.246.19\\\\\",\\\\\"client_ver\\\\\":\\\\\"0.16.2\\\\\",\\\\\"conn_id\\\\\":\\\\\"b24d0c63-99e9-4f2f-bc9f-c2c4d521f29e\\\\\",\\\\\"degree\\\\\":10,\\\\\"key_id\\\\\":\\\\\"738bc7887bacb2809b402b7bb80d987a31d34f012182e0624e560865f6c7bedb31c0908195685d2df6db6e405c2ade139a720cfc55b75a57893ad9127673c795\\\\\",\\\\\"listen_port\\\\\":40102,\\\\\"node_name\\\\\":\\\\\"\\\\\",\\\\\"port\\\\\":40102,\\\\\"verified\\\\\":true},{\\\\\"address\\\\\":\\\\\"5.132.162.16\\\\\",\\\\\"client_ver\\\\\":\\\\\"0.16.1\\\\\",\\\\\"conn_id\\\\\":null,\\\\\"degree\\\\\":10,\\\\\"key_id\\\\\":\\\\\"c7de3b78715348fde677f1b58bcba08521701336cee07b7e507577825f56f5817f8393f44ff0bfa01d262e7060394618644539d8611c8d8426c9dbb88c45a78d\\\\\",\\\\\"listen_port\\\\\":40102,\\\\\"node_name\\\\\":\\\\\"some_node_3\\\\\",\\\\\"port\\\\\":44800,\\\\\"verified\\\\\":true},{\\\\\"address\\\\\":\\\\\"49.172.70.106\\\\\",\\\\\"client_ver\\\\\":\\\\\"0.16.1\\\\\",\\\\\"conn_id\\\\\":\\\\\"89a344a9-c321-460e-9c03-701043be0f08\\\\\",\\\\\"degree\\\\\":10,\\\\\"key_id\\\\\":\\\\\"3581a24c97c0c42f0de4cac1396b0e26179560f18d99f2c9572d105985c1757e402eb16bfb77f8685f36fe222b7a5ded65d684a7cecdfa4c63fea09ec9b4b863\\\\\",\\\\\"listen_port\\\\\":40102,\\\\\"node_name\\\\\":\\\\\"mentalese-golem\\\\\",\\\\\"port\\\\\":40102,\\\\\"verified\\\\\":true},{\\\\\"address\\\\\":\\\\\"5.103.152.68\\\\\",\\\\\"client_ver\\\\\":\\\\\"0.16.2\\\\\",\\\\\"conn_id\\\\\":null,\\\\\"degree\\\\\":10,\\\\\"key_id\\\\\":\\\\\"4ac558766cea3befabe7133588c77d9724ea596663d60656d52b3b63abd8b15c3679ecce3d156af50cf64cbd507c42f896174d0dfc4314a5f0b85bbe390e126b\\\\\",\\\\\"listen_port\\\\\":40102,\\\\\"node_name\\\\\":\\\\\"Phillip\\\\\",\\\\\"port\\\\\":64454,\\\\\"verified\\\\\":true},{\\\\\"address\\\\\":\\\\\"219.75.52.94\\\\\",\\\\\"client_ver\\\\\":\\\\\"0.16.2\\\\\",\\\\\"conn_id\\\\\":null,\\\\\"degree\\\\\":8,\\\\\"key_id\\\\\":\\\\\"27151d466aefb5b72cd673006f16710ce778ea8bd541e38499e459a58879a7c9342265a8231ec7872de1c612062785158b98487f2d59f11d6d09132f71d1de51\\\\\",\\\\\"listen_port\\\\\":40102,\\\\\"node_name\\\\\":\\\\\"Beachdevil\\\\\",\\\\\"port\\\\\":53357,\\\\\"verified\\\\\":true},{\\\\\"address\\\\\":\\\\\"197.95.177.217\\\\\",\\\\\"client_ver\\\\\":\\\\\"0.16.2\\\\\",\\\\\"conn_id\\\\\":null,\\\\\"degree\\\\\":10,\\\\\"key_id\\\\\":\\\\\"c39c51a5b7fbe6c02d3317cb272e2a840b188c944874d3ade49760a8c20a4ca02febb21499f806eff8a5cff71b0b59999a4222f506789b1c965738c1edf60516\\\\\",\\\\\"listen_port\\\\\":40102,\\\\\"node_name\\\\\":\\\\\"ShedHead\\\\\",\\\\\"port\\\\\":50122,\\\\\"verified\\\\\":true},{\\\\\"address\\\\\":\\\\\"67.61.141.84\\\\\",\\\\\"client_ver\\\\\":\\\\\"0.16.2\\\\\",\\\\\"conn_id\\\\\":null,\\\\\"degree\\\\\":10,\\\\\"key_id\\\\\":\\\\\"24eb4e2c1f63a5c3cc1e879290ad20c7ee49440ddc2084e023b6628f3d91d87a4d5f094170e3d835aa84a9dfd8deca1fcc1e7aac7572fc1d1ee8f1cbfe175a54\\\\\",\\\\\"listen_port\\\\\":40102,\\\\\"node_name\\\\\":\\\\\"BoSox9\\\\\",\\\\\"port\\\\\":64817,\\\\\"verified\\\\\":true}],\\\\\"sessid\\\\\":\\\\\"0eb4c191-ce87-4241-b2e4-76b0edbe781c\\\\\"}\"\\n')"
      ]
     },
     "execution_count": 78,
     "metadata": {},
     "output_type": "execute_result"
    }
   ],
   "source": [
    "e*2+4, x\n"
   ]
  },
  {
   "cell_type": "code",
   "execution_count": 80,
   "metadata": {},
   "outputs": [],
   "source": [
    "keys = [k.replace(\"p2pstats.\", \"\")[:-1] for k in d[::2]]\n",
    "\n",
    "vals = [json.loads(json.loads(v.replace(\"\\\\x\", \"_UNICX_\"))) for v in d[1::2]]\n",
    "\n",
    "assert len(keys) == len(vals)\n",
    "\n",
    "network_all = {k: len(vv[\"p2p_snapshot\"]) for k, vv in zip(keys, vals)}"
   ]
  },
  {
   "cell_type": "code",
   "execution_count": null,
   "metadata": {},
   "outputs": [],
   "source": [
    "network_all[\"f052d3e4404c5f07842f1104b677d79569e81b39458eab516090947d29bf3e3cdd3847808a2e353d7be1717f9d4a4bce15079a42db6c843641ca52f8d2114dad\"]"
   ]
  },
  {
   "cell_type": "code",
   "execution_count": null,
   "metadata": {},
   "outputs": [],
   "source": [
    "# list of \n",
    "# [(k[:5], v) for k, v in sorted(list(network_all.items()), key=lambda x: x[1], reverse=True)]"
   ]
  },
  {
   "cell_type": "code",
   "execution_count": null,
   "metadata": {},
   "outputs": [],
   "source": [
    "network = {k: [v[\"key_id\"] for v in vv[\"p2p_snapshot\"]] for k, vv in zip(keys, vals)}"
   ]
  },
  {
   "cell_type": "code",
   "execution_count": null,
   "metadata": {},
   "outputs": [],
   "source": [
    "len(network)"
   ]
  },
  {
   "cell_type": "code",
   "execution_count": null,
   "metadata": {},
   "outputs": [],
   "source": [
    "keys[0]"
   ]
  },
  {
   "cell_type": "code",
   "execution_count": null,
   "metadata": {},
   "outputs": [],
   "source": [
    "# Format\n",
    "# {\n",
    "#   \"nodes\":[\n",
    "# \t\t{\"name\":\"node1\",\"group\":1},\n",
    "# \t\t{\"name\":\"node2\",\"group\":2},\n",
    "# \t\t{\"name\":\"node3\",\"group\":2},\n",
    "# \t\t{\"name\":\"node4\",\"group\":3}\n",
    "# \t],\n",
    "# \t\"links\":[\n",
    "# \t\t{\"source\":2,\"target\":1,\"weight\":1},\n",
    "# \t\t{\"source\":0,\"target\":2,\"weight\":3}\n",
    "# \t]\n",
    "# }"
   ]
  },
  {
   "cell_type": "code",
   "execution_count": null,
   "metadata": {},
   "outputs": [],
   "source": [
    "num_node = {k: e for e, k in enumerate(keys)}"
   ]
  },
  {
   "cell_type": "code",
   "execution_count": null,
   "metadata": {},
   "outputs": [],
   "source": [
    "connections_set = set((k1, k2) for k1 in keys for k2 in network[k1])"
   ]
  },
  {
   "cell_type": "code",
   "execution_count": null,
   "metadata": {},
   "outputs": [],
   "source": [
    "# Assymetric connections\n",
    "\n",
    "t = []\n",
    "\n",
    "for k1, k2 in connections_set:\n",
    "    if not (k2, k1) in connections_set:\n",
    "        if k2 in num_node:\n",
    "            t.append((k1, k2))\n",
    "len(t)"
   ]
  },
  {
   "cell_type": "code",
   "execution_count": null,
   "metadata": {},
   "outputs": [],
   "source": [
    "# Dead nodes?\n",
    "\n",
    "r = []\n",
    "\n",
    "for k1, k2 in connections_set:\n",
    "    if k2 not in num_node:\n",
    "        r.append(k2)\n",
    "len(r)"
   ]
  },
  {
   "cell_type": "code",
   "execution_count": null,
   "metadata": {},
   "outputs": [],
   "source": [
    "ports = [[(v[\"port\"], v[\"listen_port\"]) for v in vv[\"p2p_snapshot\"]] for vv in vals]"
   ]
  },
  {
   "cell_type": "code",
   "execution_count": null,
   "metadata": {},
   "outputs": [],
   "source": [
    "# Strange port behaviour - one node can have incoming cnnections on multiple ports\n",
    "\n",
    "ps = []\n",
    "\n",
    "for p in ports:\n",
    "    if any(p[0][1] != q[1] for q in p):\n",
    "        ps.append(p)\n",
    "len(ps)"
   ]
  },
  {
   "cell_type": "code",
   "execution_count": null,
   "metadata": {},
   "outputs": [],
   "source": [
    "connections_set_sorted = set(tuple(sorted([k1, k2])) for k1 in keys for k2 in network[k1])"
   ]
  },
  {
   "cell_type": "code",
   "execution_count": null,
   "metadata": {},
   "outputs": [],
   "source": [
    "out = {}\n",
    "out[\"nodes\"] = [{\"name\": \"\", \"group\": 1} for k in keys]"
   ]
  },
  {
   "cell_type": "code",
   "execution_count": null,
   "metadata": {},
   "outputs": [],
   "source": [
    "out[\"links\"] = [{\"source\": num_node[k1], \"target\": num_node[k2], \"weight\": 1} \n",
    "                for k1, k2 in connections_set_sorted\n",
    "                if k1 in num_node and k2 in num_node]"
   ]
  },
  {
   "cell_type": "code",
   "execution_count": null,
   "metadata": {},
   "outputs": [],
   "source": [
    "len(out[\"links\"])"
   ]
  },
  {
   "cell_type": "code",
   "execution_count": null,
   "metadata": {},
   "outputs": [],
   "source": [
    "len(out[\"nodes\"])"
   ]
  },
  {
   "cell_type": "code",
   "execution_count": null,
   "metadata": {},
   "outputs": [],
   "source": [
    "with open(\"graphFile.json\", \"w\") as f:\n",
    "    json.dump(out, f)"
   ]
  },
  {
   "cell_type": "code",
   "execution_count": null,
   "metadata": {},
   "outputs": [],
   "source": [
    "[(k, v) for k,v  in network.items() if k[:5] == \"3752\"]"
   ]
  },
  {
   "cell_type": "code",
   "execution_count": null,
   "metadata": {},
   "outputs": [],
   "source": [
    "[(k, v) for k,v  in network.items() if any(vv[:5] == \"3752\" for vv in v)]"
   ]
  },
  {
   "cell_type": "code",
   "execution_count": null,
   "metadata": {},
   "outputs": [],
   "source": [
    "# Format 2\n",
    "# {\n",
    "#   \"nodes\":[\n",
    "# \t\t{\"id\":\"node1\",\"group\":1},\n",
    "# \t\t{\"id\":\"node2\",\"group\":2},\n",
    "# \t],\n",
    "# \t\"links\":[\n",
    "# \t\t{\"source\":\"node1\",\"target\":\"node2\",\"value\":1},\n",
    "# \t]\n",
    "# }"
   ]
  },
  {
   "cell_type": "code",
   "execution_count": null,
   "metadata": {},
   "outputs": [],
   "source": []
  },
  {
   "cell_type": "code",
   "execution_count": null,
   "metadata": {},
   "outputs": [],
   "source": [
    "out2 = {}\n",
    "\n",
    "def get_degree(k):\n",
    "    return network_all[k]\n",
    "\n",
    "out2[\"nodes\"] = [{\"id\": k, \"group\": get_degree(k)} for k in keys]"
   ]
  },
  {
   "cell_type": "code",
   "execution_count": null,
   "metadata": {},
   "outputs": [],
   "source": [
    "out2[\"links\"] = [{\"source\": k1, \"target\": k2, \"value\": 1} \n",
    "                for k1, k2 in connections_set\n",
    "                if k1 in keys and k2 in keys]"
   ]
  },
  {
   "cell_type": "code",
   "execution_count": null,
   "metadata": {},
   "outputs": [],
   "source": [
    "with open(\"graphFile2.json\", \"w\") as f:\n",
    "    json.dump(out2, f)"
   ]
  },
  {
   "cell_type": "code",
   "execution_count": null,
   "metadata": {},
   "outputs": [],
   "source": []
  }
 ],
 "metadata": {
  "kernelspec": {
   "display_name": "Python 3",
   "language": "python",
   "name": "python3"
  },
  "language_info": {
   "codemirror_mode": {
    "name": "ipython",
    "version": 3
   },
   "file_extension": ".py",
   "mimetype": "text/x-python",
   "name": "python",
   "nbconvert_exporter": "python",
   "pygments_lexer": "ipython3",
   "version": "3.6.5"
  }
 },
 "nbformat": 4,
 "nbformat_minor": 2
}
